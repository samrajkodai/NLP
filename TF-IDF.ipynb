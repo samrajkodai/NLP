{
 "cells": [
  {
   "cell_type": "code",
   "execution_count": 1,
   "id": "f98da2ef",
   "metadata": {},
   "outputs": [],
   "source": [
    "import nltk\n",
    "import re\n",
    "from nltk.corpus import stopwords\n",
    "from nltk.stem import PorterStemmer\n",
    "from nltk.stem import WordNetLemmatizer\n"
   ]
  },
  {
   "cell_type": "code",
   "execution_count": 2,
   "id": "ffbe5384",
   "metadata": {},
   "outputs": [],
   "source": [
    "ps=PorterStemmer()\n",
    "ls=WordNetLemmatizer()"
   ]
  },
  {
   "cell_type": "code",
   "execution_count": 3,
   "id": "6fa319f5",
   "metadata": {},
   "outputs": [],
   "source": [
    "para=\"\"\"\n",
    "A.P.J. Abdul Kalam, in full Avul Pakir Jainulabdeen Abdul Kalam, (born October 15, 1931, Rameswaram, India—died July 27, 2015, Shillong), Indian scientist and politician who played a leading role in the development of India’s missile and nuclear weapons programs. He was president of India from 2002 to 2007.\n",
    "\n",
    "Kalam earned a degree in aeronautical engineering from the Madras Institute of Technology and in 1958 joined the Defence Research and Development Organisation (DRDO). In 1969 he moved to the Indian Space Research Organisation, where he was project director of the SLV-III, the first satellite launch vehicle that was both designed and produced in India. Rejoining DRDO in 1982, Kalam planned the program that produced a number of successful missiles, which helped earn him the nickname “Missile Man.” Among those successes was Agni, India’s first intermediate-range ballistic missile, which incorporated aspects of the SLV-III and was launched in 1989\n",
    "\n",
    "\"\"\""
   ]
  },
  {
   "cell_type": "code",
   "execution_count": 4,
   "id": "b8325b02",
   "metadata": {},
   "outputs": [],
   "source": [
    "sent=nltk.sent_tokenize(para)"
   ]
  },
  {
   "cell_type": "code",
   "execution_count": 5,
   "id": "8db62682",
   "metadata": {},
   "outputs": [],
   "source": [
    "corpus=[]\n",
    "\n",
    "for i in range(0,len(sent)):\n",
    "    review=re.sub('[^a-zA-Z]',\" \",sent[i])\n",
    "    review=review.lower()\n",
    "    review=review.split()\n",
    "    \n",
    "    review=[ls.lemmatize(word) for word in review if not word in set(stopwords.words(\"english\"))]\n",
    "    review=\" \".join(review)\n",
    "    corpus.append(review)"
   ]
  },
  {
   "cell_type": "code",
   "execution_count": 6,
   "id": "7229a979",
   "metadata": {},
   "outputs": [
    {
     "data": {
      "text/plain": [
       "['p j',\n",
       " 'abdul kalam full avul pakir jainulabdeen abdul kalam born october rameswaram india died july shillong indian scientist politician played leading role development india missile nuclear weapon program',\n",
       " 'president india',\n",
       " 'kalam earned degree aeronautical engineering madras institute technology joined defence research development organisation drdo',\n",
       " 'moved indian space research organisation project director slv iii first satellite launch vehicle designed produced india',\n",
       " 'rejoining drdo kalam planned program produced number successful missile helped earn nickname missile man among success agni india first intermediate range ballistic missile incorporated aspect slv iii launched']"
      ]
     },
     "execution_count": 6,
     "metadata": {},
     "output_type": "execute_result"
    }
   ],
   "source": [
    "corpus"
   ]
  },
  {
   "cell_type": "code",
   "execution_count": 7,
   "id": "1f99cf54",
   "metadata": {},
   "outputs": [],
   "source": [
    "from sklearn.feature_extraction.text import TfidfVectorizer"
   ]
  },
  {
   "cell_type": "code",
   "execution_count": 11,
   "id": "1d48eba4",
   "metadata": {},
   "outputs": [],
   "source": [
    "cv = TfidfVectorizer()\n",
    "X = cv.fit_transform(corpus).toarray()"
   ]
  },
  {
   "cell_type": "code",
   "execution_count": 12,
   "id": "0579fedb",
   "metadata": {},
   "outputs": [
    {
     "data": {
      "text/plain": [
       "array([[0.        , 0.        , 0.        , 0.        , 0.        ,\n",
       "        0.        , 0.        , 0.        , 0.        , 0.        ,\n",
       "        0.        , 0.        , 0.        , 0.        , 0.        ,\n",
       "        0.        , 0.        , 0.        , 0.        , 0.        ,\n",
       "        0.        , 0.        , 0.        , 0.        , 0.        ,\n",
       "        0.        , 0.        , 0.        , 0.        , 0.        ,\n",
       "        0.        , 0.        , 0.        , 0.        , 0.        ,\n",
       "        0.        , 0.        , 0.        , 0.        , 0.        ,\n",
       "        0.        , 0.        , 0.        , 0.        , 0.        ,\n",
       "        0.        , 0.        , 0.        , 0.        , 0.        ,\n",
       "        0.        , 0.        , 0.        , 0.        , 0.        ,\n",
       "        0.        , 0.        , 0.        , 0.        , 0.        ,\n",
       "        0.        , 0.        , 0.        , 0.        , 0.        ,\n",
       "        0.        ],\n",
       "       [0.3847954 , 0.        , 0.        , 0.        , 0.        ,\n",
       "        0.1923977 , 0.        , 0.1923977 , 0.        , 0.        ,\n",
       "        0.        , 0.15776887, 0.1923977 , 0.        , 0.        ,\n",
       "        0.        , 0.        , 0.        , 0.        , 0.1923977 ,\n",
       "        0.        , 0.        , 0.        , 0.22828339, 0.15776887,\n",
       "        0.        , 0.        , 0.1923977 , 0.        , 0.1923977 ,\n",
       "        0.26639864, 0.        , 0.        , 0.1923977 , 0.        ,\n",
       "        0.        , 0.15776887, 0.        , 0.        , 0.1923977 ,\n",
       "        0.        , 0.1923977 , 0.        , 0.1923977 , 0.        ,\n",
       "        0.1923977 , 0.1923977 , 0.        , 0.        , 0.15776887,\n",
       "        0.        , 0.1923977 , 0.        , 0.        , 0.        ,\n",
       "        0.1923977 , 0.        , 0.1923977 , 0.1923977 , 0.        ,\n",
       "        0.        , 0.        , 0.        , 0.        , 0.        ,\n",
       "        0.1923977 ],\n",
       "       [0.        , 0.        , 0.        , 0.        , 0.        ,\n",
       "        0.        , 0.        , 0.        , 0.        , 0.        ,\n",
       "        0.        , 0.        , 0.        , 0.        , 0.        ,\n",
       "        0.        , 0.        , 0.        , 0.        , 0.        ,\n",
       "        0.        , 0.        , 0.        , 0.5102266 , 0.        ,\n",
       "        0.        , 0.        , 0.        , 0.        , 0.        ,\n",
       "        0.        , 0.        , 0.        , 0.        , 0.        ,\n",
       "        0.        , 0.        , 0.        , 0.        , 0.        ,\n",
       "        0.        , 0.        , 0.        , 0.        , 0.        ,\n",
       "        0.        , 0.        , 0.86004001, 0.        , 0.        ,\n",
       "        0.        , 0.        , 0.        , 0.        , 0.        ,\n",
       "        0.        , 0.        , 0.        , 0.        , 0.        ,\n",
       "        0.        , 0.        , 0.        , 0.        , 0.        ,\n",
       "        0.        ],\n",
       "       [0.        , 0.28666372, 0.        , 0.        , 0.        ,\n",
       "        0.        , 0.        , 0.        , 0.28666372, 0.28666372,\n",
       "        0.        , 0.23506835, 0.        , 0.        , 0.23506835,\n",
       "        0.        , 0.28666372, 0.28666372, 0.        , 0.        ,\n",
       "        0.        , 0.        , 0.        , 0.        , 0.        ,\n",
       "        0.28666372, 0.        , 0.        , 0.28666372, 0.        ,\n",
       "        0.19846085, 0.        , 0.        , 0.        , 0.28666372,\n",
       "        0.        , 0.        , 0.        , 0.        , 0.        ,\n",
       "        0.        , 0.        , 0.23506835, 0.        , 0.        ,\n",
       "        0.        , 0.        , 0.        , 0.        , 0.        ,\n",
       "        0.        , 0.        , 0.        , 0.        , 0.23506835,\n",
       "        0.        , 0.        , 0.        , 0.        , 0.        ,\n",
       "        0.        , 0.        , 0.        , 0.28666372, 0.        ,\n",
       "        0.        ],\n",
       "       [0.        , 0.        , 0.        , 0.        , 0.        ,\n",
       "        0.        , 0.        , 0.        , 0.        , 0.        ,\n",
       "        0.2767237 , 0.        , 0.        , 0.2767237 , 0.        ,\n",
       "        0.        , 0.        , 0.        , 0.22691739, 0.        ,\n",
       "        0.        , 0.22691739, 0.        , 0.16416887, 0.22691739,\n",
       "        0.        , 0.        , 0.        , 0.        , 0.        ,\n",
       "        0.        , 0.2767237 , 0.        , 0.        , 0.        ,\n",
       "        0.        , 0.        , 0.2767237 , 0.        , 0.        ,\n",
       "        0.        , 0.        , 0.22691739, 0.        , 0.        ,\n",
       "        0.        , 0.        , 0.        , 0.22691739, 0.        ,\n",
       "        0.2767237 , 0.        , 0.        , 0.        , 0.22691739,\n",
       "        0.        , 0.2767237 , 0.        , 0.        , 0.22691739,\n",
       "        0.2767237 , 0.        , 0.        , 0.        , 0.2767237 ,\n",
       "        0.        ],\n",
       "       [0.        , 0.        , 0.18926091, 0.18926091, 0.18926091,\n",
       "        0.        , 0.18926091, 0.        , 0.        , 0.        ,\n",
       "        0.        , 0.        , 0.        , 0.        , 0.15519665,\n",
       "        0.18926091, 0.        , 0.        , 0.15519665, 0.        ,\n",
       "        0.18926091, 0.15519665, 0.18926091, 0.11228077, 0.        ,\n",
       "        0.        , 0.18926091, 0.        , 0.        , 0.        ,\n",
       "        0.13102768, 0.        , 0.18926091, 0.        , 0.        ,\n",
       "        0.18926091, 0.46558996, 0.        , 0.18926091, 0.        ,\n",
       "        0.18926091, 0.        , 0.        , 0.        , 0.18926091,\n",
       "        0.        , 0.        , 0.        , 0.15519665, 0.15519665,\n",
       "        0.        , 0.        , 0.18926091, 0.18926091, 0.        ,\n",
       "        0.        , 0.        , 0.        , 0.        , 0.15519665,\n",
       "        0.        , 0.18926091, 0.18926091, 0.        , 0.        ,\n",
       "        0.        ]])"
      ]
     },
     "execution_count": 12,
     "metadata": {},
     "output_type": "execute_result"
    }
   ],
   "source": [
    "X"
   ]
  },
  {
   "cell_type": "code",
   "execution_count": null,
   "id": "3a2b6db4",
   "metadata": {},
   "outputs": [],
   "source": []
  }
 ],
 "metadata": {
  "kernelspec": {
   "display_name": "Python 3 (ipykernel)",
   "language": "python",
   "name": "python3"
  },
  "language_info": {
   "codemirror_mode": {
    "name": "ipython",
    "version": 3
   },
   "file_extension": ".py",
   "mimetype": "text/x-python",
   "name": "python",
   "nbconvert_exporter": "python",
   "pygments_lexer": "ipython3",
   "version": "3.9.7"
  }
 },
 "nbformat": 4,
 "nbformat_minor": 5
}
