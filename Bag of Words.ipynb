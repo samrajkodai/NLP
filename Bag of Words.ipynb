{
 "cells": [
  {
   "cell_type": "code",
   "execution_count": 1,
   "id": "a1267f3e",
   "metadata": {},
   "outputs": [],
   "source": [
    "import nltk"
   ]
  },
  {
   "cell_type": "code",
   "execution_count": 2,
   "id": "ce38682d",
   "metadata": {},
   "outputs": [],
   "source": [
    "from nltk.corpus import stopwords\n",
    "from nltk.stem import WordNetLemmatizer"
   ]
  },
  {
   "cell_type": "code",
   "execution_count": 3,
   "id": "15ccac8a",
   "metadata": {},
   "outputs": [],
   "source": [
    "from nltk.stem import PorterStemmer"
   ]
  },
  {
   "cell_type": "code",
   "execution_count": 4,
   "id": "4ceaaac4",
   "metadata": {},
   "outputs": [],
   "source": [
    "para=\"\"\"\n",
    "A.P.J. Abdul Kalam, in full Avul Pakir Jainulabdeen Abdul Kalam, (born October 15, 1931, Rameswaram, India—died July 27, 2015, Shillong), Indian scientist and politician who played a leading role in the development of India’s missile and nuclear weapons programs. He was president of India from 2002 to 2007.\n",
    "\n",
    "Kalam earned a degree in aeronautical engineering from the Madras Institute of Technology and in 1958 joined the Defence Research and Development Organisation (DRDO). In 1969 he moved to the Indian Space Research Organisation, where he was project director of the SLV-III, the first satellite launch vehicle that was both designed and produced in India. Rejoining DRDO in 1982, Kalam planned the program that produced a number of successful missiles, which helped earn him the nickname “Missile Man.” Among those successes was Agni, India’s first intermediate-range ballistic missile, which incorporated aspects of the SLV-III and was launched in 1989\n",
    "\n",
    "\"\"\""
   ]
  },
  {
   "cell_type": "code",
   "execution_count": 5,
   "id": "ba060722",
   "metadata": {},
   "outputs": [],
   "source": [
    "sent=nltk.sent_tokenize(para)"
   ]
  },
  {
   "cell_type": "code",
   "execution_count": 6,
   "id": "15c2cc81",
   "metadata": {
    "scrolled": true
   },
   "outputs": [
    {
     "data": {
      "text/plain": [
       "['\\nA.P.J.',\n",
       " 'Abdul Kalam, in full Avul Pakir Jainulabdeen Abdul Kalam, (born October 15, 1931, Rameswaram, India—died July 27, 2015, Shillong), Indian scientist and politician who played a leading role in the development of India’s missile and nuclear weapons programs.',\n",
       " 'He was president of India from 2002 to 2007.',\n",
       " 'Kalam earned a degree in aeronautical engineering from the Madras Institute of Technology and in 1958 joined the Defence Research and Development Organisation (DRDO).',\n",
       " 'In 1969 he moved to the Indian Space Research Organisation, where he was project director of the SLV-III, the first satellite launch vehicle that was both designed and produced in India.',\n",
       " 'Rejoining DRDO in 1982, Kalam planned the program that produced a number of successful missiles, which helped earn him the nickname “Missile Man.” Among those successes was Agni, India’s first intermediate-range ballistic missile, which incorporated aspects of the SLV-III and was launched in 1989']"
      ]
     },
     "execution_count": 6,
     "metadata": {},
     "output_type": "execute_result"
    }
   ],
   "source": [
    "sent"
   ]
  },
  {
   "cell_type": "markdown",
   "id": "8fa7ffb5",
   "metadata": {},
   "source": [
    "## Lemmatization"
   ]
  },
  {
   "cell_type": "code",
   "execution_count": 7,
   "id": "36396298",
   "metadata": {},
   "outputs": [
    {
     "name": "stderr",
     "output_type": "stream",
     "text": [
      "[nltk_data] Downloading package stopwords to\n",
      "[nltk_data]     C:\\Users\\samcs\\AppData\\Roaming\\nltk_data...\n",
      "[nltk_data]   Package stopwords is already up-to-date!\n"
     ]
    },
    {
     "data": {
      "text/plain": [
       "True"
      ]
     },
     "execution_count": 7,
     "metadata": {},
     "output_type": "execute_result"
    }
   ],
   "source": [
    "word=nltk.word_tokenize(para)\n",
    "nltk.download('stopwords')"
   ]
  },
  {
   "cell_type": "code",
   "execution_count": 8,
   "id": "8950f326",
   "metadata": {},
   "outputs": [],
   "source": [
    "stemmer=PorterStemmer()"
   ]
  },
  {
   "cell_type": "code",
   "execution_count": 9,
   "id": "1113cf5c",
   "metadata": {},
   "outputs": [],
   "source": [
    "for i in range(len(sent)):\n",
    "    res=nltk.word_tokenize(sent[i])\n",
    "    words=[stemmer.stem(word) for word in word if word not in set(stopwords.words(\"english\"))]\n",
    "    sent[i]=\" \".join(words)"
   ]
  },
  {
   "cell_type": "code",
   "execution_count": 10,
   "id": "2387811e",
   "metadata": {},
   "outputs": [
    {
     "data": {
      "text/plain": [
       "['a.p.j . abdul kalam , full avul pakir jainulabdeen abdul kalam , ( born octob 15 , 1931 , rameswaram , india—di juli 27 , 2015 , shillong ) , indian scientist politician play lead role develop india ’ missil nuclear weapon program . he presid india 2002 2007 . kalam earn degre aeronaut engin madra institut technolog 1958 join defenc research develop organis ( drdo ) . in 1969 move indian space research organis , project director slv-iii , first satellit launch vehicl design produc india . rejoin drdo 1982 , kalam plan program produc number success missil , help earn nicknam “ missil man. ” among success agni , india ’ first intermediate-rang ballist missil , incorpor aspect slv-iii launch 1989',\n",
       " 'a.p.j . abdul kalam , full avul pakir jainulabdeen abdul kalam , ( born octob 15 , 1931 , rameswaram , india—di juli 27 , 2015 , shillong ) , indian scientist politician play lead role develop india ’ missil nuclear weapon program . he presid india 2002 2007 . kalam earn degre aeronaut engin madra institut technolog 1958 join defenc research develop organis ( drdo ) . in 1969 move indian space research organis , project director slv-iii , first satellit launch vehicl design produc india . rejoin drdo 1982 , kalam plan program produc number success missil , help earn nicknam “ missil man. ” among success agni , india ’ first intermediate-rang ballist missil , incorpor aspect slv-iii launch 1989',\n",
       " 'a.p.j . abdul kalam , full avul pakir jainulabdeen abdul kalam , ( born octob 15 , 1931 , rameswaram , india—di juli 27 , 2015 , shillong ) , indian scientist politician play lead role develop india ’ missil nuclear weapon program . he presid india 2002 2007 . kalam earn degre aeronaut engin madra institut technolog 1958 join defenc research develop organis ( drdo ) . in 1969 move indian space research organis , project director slv-iii , first satellit launch vehicl design produc india . rejoin drdo 1982 , kalam plan program produc number success missil , help earn nicknam “ missil man. ” among success agni , india ’ first intermediate-rang ballist missil , incorpor aspect slv-iii launch 1989',\n",
       " 'a.p.j . abdul kalam , full avul pakir jainulabdeen abdul kalam , ( born octob 15 , 1931 , rameswaram , india—di juli 27 , 2015 , shillong ) , indian scientist politician play lead role develop india ’ missil nuclear weapon program . he presid india 2002 2007 . kalam earn degre aeronaut engin madra institut technolog 1958 join defenc research develop organis ( drdo ) . in 1969 move indian space research organis , project director slv-iii , first satellit launch vehicl design produc india . rejoin drdo 1982 , kalam plan program produc number success missil , help earn nicknam “ missil man. ” among success agni , india ’ first intermediate-rang ballist missil , incorpor aspect slv-iii launch 1989',\n",
       " 'a.p.j . abdul kalam , full avul pakir jainulabdeen abdul kalam , ( born octob 15 , 1931 , rameswaram , india—di juli 27 , 2015 , shillong ) , indian scientist politician play lead role develop india ’ missil nuclear weapon program . he presid india 2002 2007 . kalam earn degre aeronaut engin madra institut technolog 1958 join defenc research develop organis ( drdo ) . in 1969 move indian space research organis , project director slv-iii , first satellit launch vehicl design produc india . rejoin drdo 1982 , kalam plan program produc number success missil , help earn nicknam “ missil man. ” among success agni , india ’ first intermediate-rang ballist missil , incorpor aspect slv-iii launch 1989',\n",
       " 'a.p.j . abdul kalam , full avul pakir jainulabdeen abdul kalam , ( born octob 15 , 1931 , rameswaram , india—di juli 27 , 2015 , shillong ) , indian scientist politician play lead role develop india ’ missil nuclear weapon program . he presid india 2002 2007 . kalam earn degre aeronaut engin madra institut technolog 1958 join defenc research develop organis ( drdo ) . in 1969 move indian space research organis , project director slv-iii , first satellit launch vehicl design produc india . rejoin drdo 1982 , kalam plan program produc number success missil , help earn nicknam “ missil man. ” among success agni , india ’ first intermediate-rang ballist missil , incorpor aspect slv-iii launch 1989']"
      ]
     },
     "execution_count": 10,
     "metadata": {},
     "output_type": "execute_result"
    }
   ],
   "source": [
    "sent"
   ]
  },
  {
   "cell_type": "code",
   "execution_count": 11,
   "id": "245661de",
   "metadata": {},
   "outputs": [
    {
     "data": {
      "text/plain": [
       "['a.p.j',\n",
       " '.',\n",
       " 'abdul',\n",
       " 'kalam',\n",
       " ',',\n",
       " 'full',\n",
       " 'avul',\n",
       " 'pakir',\n",
       " 'jainulabdeen',\n",
       " 'abdul',\n",
       " 'kalam',\n",
       " ',',\n",
       " '(',\n",
       " 'born',\n",
       " 'octob',\n",
       " '15',\n",
       " ',',\n",
       " '1931',\n",
       " ',',\n",
       " 'rameswaram',\n",
       " ',',\n",
       " 'india—di',\n",
       " 'juli',\n",
       " '27',\n",
       " ',',\n",
       " '2015',\n",
       " ',',\n",
       " 'shillong',\n",
       " ')',\n",
       " ',',\n",
       " 'indian',\n",
       " 'scientist',\n",
       " 'politician',\n",
       " 'play',\n",
       " 'lead',\n",
       " 'role',\n",
       " 'develop',\n",
       " 'india',\n",
       " '’',\n",
       " 'missil',\n",
       " 'nuclear',\n",
       " 'weapon',\n",
       " 'program',\n",
       " '.',\n",
       " 'he',\n",
       " 'presid',\n",
       " 'india',\n",
       " '2002',\n",
       " '2007',\n",
       " '.',\n",
       " 'kalam',\n",
       " 'earn',\n",
       " 'degre',\n",
       " 'aeronaut',\n",
       " 'engin',\n",
       " 'madra',\n",
       " 'institut',\n",
       " 'technolog',\n",
       " '1958',\n",
       " 'join',\n",
       " 'defenc',\n",
       " 'research',\n",
       " 'develop',\n",
       " 'organis',\n",
       " '(',\n",
       " 'drdo',\n",
       " ')',\n",
       " '.',\n",
       " 'in',\n",
       " '1969',\n",
       " 'move',\n",
       " 'indian',\n",
       " 'space',\n",
       " 'research',\n",
       " 'organis',\n",
       " ',',\n",
       " 'project',\n",
       " 'director',\n",
       " 'slv-iii',\n",
       " ',',\n",
       " 'first',\n",
       " 'satellit',\n",
       " 'launch',\n",
       " 'vehicl',\n",
       " 'design',\n",
       " 'produc',\n",
       " 'india',\n",
       " '.',\n",
       " 'rejoin',\n",
       " 'drdo',\n",
       " '1982',\n",
       " ',',\n",
       " 'kalam',\n",
       " 'plan',\n",
       " 'program',\n",
       " 'produc',\n",
       " 'number',\n",
       " 'success',\n",
       " 'missil',\n",
       " ',',\n",
       " 'help',\n",
       " 'earn',\n",
       " 'nicknam',\n",
       " '“',\n",
       " 'missil',\n",
       " 'man.',\n",
       " '”',\n",
       " 'among',\n",
       " 'success',\n",
       " 'agni',\n",
       " ',',\n",
       " 'india',\n",
       " '’',\n",
       " 'first',\n",
       " 'intermediate-rang',\n",
       " 'ballist',\n",
       " 'missil',\n",
       " ',',\n",
       " 'incorpor',\n",
       " 'aspect',\n",
       " 'slv-iii',\n",
       " 'launch',\n",
       " '1989']"
      ]
     },
     "execution_count": 11,
     "metadata": {},
     "output_type": "execute_result"
    }
   ],
   "source": [
    "words"
   ]
  },
  {
   "cell_type": "markdown",
   "id": "56becb78",
   "metadata": {},
   "source": [
    "## Lemmatizer"
   ]
  },
  {
   "cell_type": "code",
   "execution_count": 12,
   "id": "1c978141",
   "metadata": {},
   "outputs": [
    {
     "name": "stderr",
     "output_type": "stream",
     "text": [
      "[nltk_data] Downloading package wordnet to\n",
      "[nltk_data]     C:\\Users\\samcs\\AppData\\Roaming\\nltk_data...\n",
      "[nltk_data]   Package wordnet is already up-to-date!\n"
     ]
    },
    {
     "data": {
      "text/plain": [
       "True"
      ]
     },
     "execution_count": 12,
     "metadata": {},
     "output_type": "execute_result"
    }
   ],
   "source": [
    "nltk.download('wordnet')"
   ]
  },
  {
   "cell_type": "code",
   "execution_count": 13,
   "id": "beea32ae",
   "metadata": {},
   "outputs": [],
   "source": [
    "lemmatizer=WordNetLemmatizer()"
   ]
  },
  {
   "cell_type": "code",
   "execution_count": 15,
   "id": "1a9826fd",
   "metadata": {},
   "outputs": [],
   "source": [
    "for i in range(len(sent)):\n",
    "    res=nltk.word_tokenize(sent[i])\n",
    "    words=[lemmatizer.lemmatize(word) for word in res if word not in set(stopwords.words(\"english\"))]\n",
    "    sent[i]=\" \".join(words)"
   ]
  },
  {
   "cell_type": "code",
   "execution_count": 16,
   "id": "42e2f5e3",
   "metadata": {},
   "outputs": [
    {
     "data": {
      "text/plain": [
       "['A.P.J . Abdul Kalam , full Avul Pakir Jainulabdeen Abdul Kalam , ( born October 15 , 1931 , Rameswaram , India—died July 27 , 2015 , Shillong ) , Indian scientist politician played leading role development India ’ missile nuclear weapon program . He president India 2002 2007 . Kalam earned degree aeronautical engineering Madras Institute Technology 1958 joined Defence Research Development Organisation ( DRDO ) . In 1969 moved Indian Space Research Organisation , project director SLV-III , first satellite launch vehicle designed produced India . Rejoining DRDO 1982 , Kalam planned program produced number successful missile , helped earn nickname “ Missile Man . ” Among success Agni , India ’ first intermediate-range ballistic missile , incorporated aspect SLV-III launched 1989',\n",
       " 'A.P.J . Abdul Kalam , full Avul Pakir Jainulabdeen Abdul Kalam , ( born October 15 , 1931 , Rameswaram , India—died July 27 , 2015 , Shillong ) , Indian scientist politician played leading role development India ’ missile nuclear weapon program . He president India 2002 2007 . Kalam earned degree aeronautical engineering Madras Institute Technology 1958 joined Defence Research Development Organisation ( DRDO ) . In 1969 moved Indian Space Research Organisation , project director SLV-III , first satellite launch vehicle designed produced India . Rejoining DRDO 1982 , Kalam planned program produced number successful missile , helped earn nickname “ Missile Man . ” Among success Agni , India ’ first intermediate-range ballistic missile , incorporated aspect SLV-III launched 1989',\n",
       " 'A.P.J . Abdul Kalam , full Avul Pakir Jainulabdeen Abdul Kalam , ( born October 15 , 1931 , Rameswaram , India—died July 27 , 2015 , Shillong ) , Indian scientist politician played leading role development India ’ missile nuclear weapon program . He president India 2002 2007 . Kalam earned degree aeronautical engineering Madras Institute Technology 1958 joined Defence Research Development Organisation ( DRDO ) . In 1969 moved Indian Space Research Organisation , project director SLV-III , first satellite launch vehicle designed produced India . Rejoining DRDO 1982 , Kalam planned program produced number successful missile , helped earn nickname “ Missile Man . ” Among success Agni , India ’ first intermediate-range ballistic missile , incorporated aspect SLV-III launched 1989',\n",
       " 'A.P.J . Abdul Kalam , full Avul Pakir Jainulabdeen Abdul Kalam , ( born October 15 , 1931 , Rameswaram , India—died July 27 , 2015 , Shillong ) , Indian scientist politician played leading role development India ’ missile nuclear weapon program . He president India 2002 2007 . Kalam earned degree aeronautical engineering Madras Institute Technology 1958 joined Defence Research Development Organisation ( DRDO ) . In 1969 moved Indian Space Research Organisation , project director SLV-III , first satellite launch vehicle designed produced India . Rejoining DRDO 1982 , Kalam planned program produced number successful missile , helped earn nickname “ Missile Man . ” Among success Agni , India ’ first intermediate-range ballistic missile , incorporated aspect SLV-III launched 1989',\n",
       " 'A.P.J . Abdul Kalam , full Avul Pakir Jainulabdeen Abdul Kalam , ( born October 15 , 1931 , Rameswaram , India—died July 27 , 2015 , Shillong ) , Indian scientist politician played leading role development India ’ missile nuclear weapon program . He president India 2002 2007 . Kalam earned degree aeronautical engineering Madras Institute Technology 1958 joined Defence Research Development Organisation ( DRDO ) . In 1969 moved Indian Space Research Organisation , project director SLV-III , first satellite launch vehicle designed produced India . Rejoining DRDO 1982 , Kalam planned program produced number successful missile , helped earn nickname “ Missile Man . ” Among success Agni , India ’ first intermediate-range ballistic missile , incorporated aspect SLV-III launched 1989',\n",
       " 'A.P.J . Abdul Kalam , full Avul Pakir Jainulabdeen Abdul Kalam , ( born October 15 , 1931 , Rameswaram , India—died July 27 , 2015 , Shillong ) , Indian scientist politician played leading role development India ’ missile nuclear weapon program . He president India 2002 2007 . Kalam earned degree aeronautical engineering Madras Institute Technology 1958 joined Defence Research Development Organisation ( DRDO ) . In 1969 moved Indian Space Research Organisation , project director SLV-III , first satellite launch vehicle designed produced India . Rejoining DRDO 1982 , Kalam planned program produced number successful missile , helped earn nickname “ Missile Man . ” Among success Agni , India ’ first intermediate-range ballistic missile , incorporated aspect SLV-III launched 1989']"
      ]
     },
     "execution_count": 16,
     "metadata": {},
     "output_type": "execute_result"
    }
   ],
   "source": [
    "sent"
   ]
  },
  {
   "cell_type": "code",
   "execution_count": 17,
   "id": "10d3a1a0",
   "metadata": {
    "scrolled": false
   },
   "outputs": [
    {
     "data": {
      "text/plain": [
       "['A.P.J',\n",
       " '.',\n",
       " 'Abdul',\n",
       " 'Kalam',\n",
       " ',',\n",
       " 'full',\n",
       " 'Avul',\n",
       " 'Pakir',\n",
       " 'Jainulabdeen',\n",
       " 'Abdul',\n",
       " 'Kalam',\n",
       " ',',\n",
       " '(',\n",
       " 'born',\n",
       " 'October',\n",
       " '15',\n",
       " ',',\n",
       " '1931',\n",
       " ',',\n",
       " 'Rameswaram',\n",
       " ',',\n",
       " 'India—died',\n",
       " 'July',\n",
       " '27',\n",
       " ',',\n",
       " '2015',\n",
       " ',',\n",
       " 'Shillong',\n",
       " ')',\n",
       " ',',\n",
       " 'Indian',\n",
       " 'scientist',\n",
       " 'politician',\n",
       " 'played',\n",
       " 'leading',\n",
       " 'role',\n",
       " 'development',\n",
       " 'India',\n",
       " '’',\n",
       " 'missile',\n",
       " 'nuclear',\n",
       " 'weapon',\n",
       " 'program',\n",
       " '.',\n",
       " 'He',\n",
       " 'president',\n",
       " 'India',\n",
       " '2002',\n",
       " '2007',\n",
       " '.',\n",
       " 'Kalam',\n",
       " 'earned',\n",
       " 'degree',\n",
       " 'aeronautical',\n",
       " 'engineering',\n",
       " 'Madras',\n",
       " 'Institute',\n",
       " 'Technology',\n",
       " '1958',\n",
       " 'joined',\n",
       " 'Defence',\n",
       " 'Research',\n",
       " 'Development',\n",
       " 'Organisation',\n",
       " '(',\n",
       " 'DRDO',\n",
       " ')',\n",
       " '.',\n",
       " 'In',\n",
       " '1969',\n",
       " 'moved',\n",
       " 'Indian',\n",
       " 'Space',\n",
       " 'Research',\n",
       " 'Organisation',\n",
       " ',',\n",
       " 'project',\n",
       " 'director',\n",
       " 'SLV-III',\n",
       " ',',\n",
       " 'first',\n",
       " 'satellite',\n",
       " 'launch',\n",
       " 'vehicle',\n",
       " 'designed',\n",
       " 'produced',\n",
       " 'India',\n",
       " '.',\n",
       " 'Rejoining',\n",
       " 'DRDO',\n",
       " '1982',\n",
       " ',',\n",
       " 'Kalam',\n",
       " 'planned',\n",
       " 'program',\n",
       " 'produced',\n",
       " 'number',\n",
       " 'successful',\n",
       " 'missile',\n",
       " ',',\n",
       " 'helped',\n",
       " 'earn',\n",
       " 'nickname',\n",
       " '“',\n",
       " 'Missile',\n",
       " 'Man',\n",
       " '.',\n",
       " '”',\n",
       " 'Among',\n",
       " 'success',\n",
       " 'Agni',\n",
       " ',',\n",
       " 'India',\n",
       " '’',\n",
       " 'first',\n",
       " 'intermediate-range',\n",
       " 'ballistic',\n",
       " 'missile',\n",
       " ',',\n",
       " 'incorporated',\n",
       " 'aspect',\n",
       " 'SLV-III',\n",
       " 'launched',\n",
       " '1989']"
      ]
     },
     "execution_count": 17,
     "metadata": {},
     "output_type": "execute_result"
    }
   ],
   "source": [
    "words"
   ]
  },
  {
   "cell_type": "markdown",
   "id": "eea9253a",
   "metadata": {},
   "source": [
    "### Bag of Words"
   ]
  },
  {
   "cell_type": "code",
   "execution_count": 20,
   "id": "9fd0b33c",
   "metadata": {},
   "outputs": [],
   "source": [
    "import nltk\n",
    "import re\n",
    "from nltk.corpus import stopwords\n",
    "from nltk.stem import PorterStemmer\n",
    "from nltk.stem import WordNetLemmatizer\n"
   ]
  },
  {
   "cell_type": "code",
   "execution_count": 21,
   "id": "07907f37",
   "metadata": {},
   "outputs": [],
   "source": [
    "ps=PorterStemmer()\n",
    "ls=WordNetLemmatizer()"
   ]
  },
  {
   "cell_type": "code",
   "execution_count": 22,
   "id": "cf624c91",
   "metadata": {},
   "outputs": [],
   "source": [
    "para=\"\"\"\n",
    "A.P.J. Abdul Kalam, in full Avul Pakir Jainulabdeen Abdul Kalam, (born October 15, 1931, Rameswaram, India—died July 27, 2015, Shillong), Indian scientist and politician who played a leading role in the development of India’s missile and nuclear weapons programs. He was president of India from 2002 to 2007.\n",
    "\n",
    "Kalam earned a degree in aeronautical engineering from the Madras Institute of Technology and in 1958 joined the Defence Research and Development Organisation (DRDO). In 1969 he moved to the Indian Space Research Organisation, where he was project director of the SLV-III, the first satellite launch vehicle that was both designed and produced in India. Rejoining DRDO in 1982, Kalam planned the program that produced a number of successful missiles, which helped earn him the nickname “Missile Man.” Among those successes was Agni, India’s first intermediate-range ballistic missile, which incorporated aspects of the SLV-III and was launched in 1989\n",
    "\n",
    "\"\"\""
   ]
  },
  {
   "cell_type": "code",
   "execution_count": 23,
   "id": "81ac0005",
   "metadata": {},
   "outputs": [],
   "source": [
    "sent=nltk.sent_tokenize(para)"
   ]
  },
  {
   "cell_type": "code",
   "execution_count": 31,
   "id": "dc002447",
   "metadata": {},
   "outputs": [],
   "source": [
    "corpus=[]\n",
    "\n",
    "for i in range(0,len(sent)):\n",
    "    review=re.sub('[^a-zA-Z]',\" \",sent[i])\n",
    "    review=review.lower()\n",
    "    review=review.split()\n",
    "    \n",
    "    review=[ls.lemmatize(word) for word in review if not word in set(stopwords.words(\"english\"))]\n",
    "    review=\" \".join(review)\n",
    "    corpus.append(review)"
   ]
  },
  {
   "cell_type": "code",
   "execution_count": 32,
   "id": "aeb645fb",
   "metadata": {},
   "outputs": [
    {
     "data": {
      "text/plain": [
       "['p j',\n",
       " 'abdul kalam full avul pakir jainulabdeen abdul kalam born october rameswaram india died july shillong indian scientist politician played leading role development india missile nuclear weapon program',\n",
       " 'president india',\n",
       " 'kalam earned degree aeronautical engineering madras institute technology joined defence research development organisation drdo',\n",
       " 'moved indian space research organisation project director slv iii first satellite launch vehicle designed produced india',\n",
       " 'rejoining drdo kalam planned program produced number successful missile helped earn nickname missile man among success agni india first intermediate range ballistic missile incorporated aspect slv iii launched']"
      ]
     },
     "execution_count": 32,
     "metadata": {},
     "output_type": "execute_result"
    }
   ],
   "source": [
    "corpus"
   ]
  },
  {
   "cell_type": "code",
   "execution_count": 34,
   "id": "40985ffc",
   "metadata": {},
   "outputs": [
    {
     "data": {
      "text/plain": [
       "\"['p j',\\n 'abdul kalam full avul pakir jainulabdeen abdul kalam born octob rameswaram india die juli shillong indian scientist politician play lead role develop india missil nuclear weapon program',\\n 'presid india',\\n 'kalam earn degre aeronaut engin madra institut technolog join defenc research develop organis drdo',\\n 'move indian space research organis project director slv iii first satellit launch vehicl design produc india',\\n 'rejoin drdo kalam plan program produc number success missil help earn nicknam missil man among success agni india first intermedi rang ballist missil incorpor aspect slv iii launch']\""
      ]
     },
     "execution_count": 34,
     "metadata": {},
     "output_type": "execute_result"
    }
   ],
   "source": [
    "\"\"\"['p j',\n",
    " 'abdul kalam full avul pakir jainulabdeen abdul kalam born octob rameswaram india die juli shillong indian scientist politician play lead role develop india missil nuclear weapon program',\n",
    " 'presid india',\n",
    " 'kalam earn degre aeronaut engin madra institut technolog join defenc research develop organis drdo',\n",
    " 'move indian space research organis project director slv iii first satellit launch vehicl design produc india',\n",
    " 'rejoin drdo kalam plan program produc number success missil help earn nicknam missil man among success agni india first intermedi rang ballist missil incorpor aspect slv iii launch']\"\"\""
   ]
  },
  {
   "cell_type": "code",
   "execution_count": 35,
   "id": "b8ba945c",
   "metadata": {},
   "outputs": [],
   "source": [
    "from sklearn.feature_extraction.text import CountVectorizer"
   ]
  },
  {
   "cell_type": "code",
   "execution_count": 36,
   "id": "0c8d4bdf",
   "metadata": {},
   "outputs": [],
   "source": [
    "cv=CountVectorizer()"
   ]
  },
  {
   "cell_type": "code",
   "execution_count": 39,
   "id": "1edc25e7",
   "metadata": {},
   "outputs": [
    {
     "data": {
      "text/plain": [
       "array([[0, 0, 0, 0, 0, 0, 0, 0, 0, 0, 0, 0, 0, 0, 0, 0, 0, 0, 0, 0, 0, 0,\n",
       "        0, 0, 0, 0, 0, 0, 0, 0, 0, 0, 0, 0, 0, 0, 0, 0, 0, 0, 0, 0, 0, 0,\n",
       "        0, 0, 0, 0, 0, 0, 0, 0, 0, 0, 0, 0, 0, 0, 0, 0, 0, 0, 0, 0, 0, 0],\n",
       "       [2, 0, 0, 0, 0, 1, 0, 1, 0, 0, 0, 1, 1, 0, 0, 0, 0, 0, 0, 1, 0, 0,\n",
       "        0, 2, 1, 0, 0, 1, 0, 1, 2, 0, 0, 1, 0, 0, 1, 0, 0, 1, 0, 1, 0, 1,\n",
       "        0, 1, 1, 0, 0, 1, 0, 1, 0, 0, 0, 1, 0, 1, 1, 0, 0, 0, 0, 0, 0, 1],\n",
       "       [0, 0, 0, 0, 0, 0, 0, 0, 0, 0, 0, 0, 0, 0, 0, 0, 0, 0, 0, 0, 0, 0,\n",
       "        0, 1, 0, 0, 0, 0, 0, 0, 0, 0, 0, 0, 0, 0, 0, 0, 0, 0, 0, 0, 0, 0,\n",
       "        0, 0, 0, 1, 0, 0, 0, 0, 0, 0, 0, 0, 0, 0, 0, 0, 0, 0, 0, 0, 0, 0],\n",
       "       [0, 1, 0, 0, 0, 0, 0, 0, 1, 1, 0, 1, 0, 0, 1, 0, 1, 1, 0, 0, 0, 0,\n",
       "        0, 0, 0, 1, 0, 0, 1, 0, 1, 0, 0, 0, 1, 0, 0, 0, 0, 0, 0, 0, 1, 0,\n",
       "        0, 0, 0, 0, 0, 0, 0, 0, 0, 0, 1, 0, 0, 0, 0, 0, 0, 0, 0, 1, 0, 0],\n",
       "       [0, 0, 0, 0, 0, 0, 0, 0, 0, 0, 1, 0, 0, 1, 0, 0, 0, 0, 1, 0, 0, 1,\n",
       "        0, 1, 1, 0, 0, 0, 0, 0, 0, 1, 0, 0, 0, 0, 0, 1, 0, 0, 0, 0, 1, 0,\n",
       "        0, 0, 0, 0, 1, 0, 1, 0, 0, 0, 1, 0, 1, 0, 0, 1, 1, 0, 0, 0, 1, 0],\n",
       "       [0, 0, 1, 1, 1, 0, 1, 0, 0, 0, 0, 0, 0, 0, 1, 1, 0, 0, 1, 0, 1, 1,\n",
       "        1, 1, 0, 0, 1, 0, 0, 0, 1, 0, 1, 0, 0, 1, 3, 0, 1, 0, 1, 0, 0, 0,\n",
       "        1, 0, 0, 0, 1, 1, 0, 0, 1, 1, 0, 0, 0, 0, 0, 1, 0, 1, 1, 0, 0, 0]],\n",
       "      dtype=int64)"
      ]
     },
     "execution_count": 39,
     "metadata": {},
     "output_type": "execute_result"
    }
   ],
   "source": [
    "cv.fit_transform(corpus).toarray()"
   ]
  },
  {
   "cell_type": "code",
   "execution_count": null,
   "id": "f57a0af2",
   "metadata": {},
   "outputs": [],
   "source": []
  }
 ],
 "metadata": {
  "kernelspec": {
   "display_name": "Python 3 (ipykernel)",
   "language": "python",
   "name": "python3"
  },
  "language_info": {
   "codemirror_mode": {
    "name": "ipython",
    "version": 3
   },
   "file_extension": ".py",
   "mimetype": "text/x-python",
   "name": "python",
   "nbconvert_exporter": "python",
   "pygments_lexer": "ipython3",
   "version": "3.9.7"
  }
 },
 "nbformat": 4,
 "nbformat_minor": 5
}
