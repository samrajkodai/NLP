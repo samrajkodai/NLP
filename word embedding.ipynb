{
 "cells": [
  {
   "cell_type": "code",
   "execution_count": 6,
   "id": "f3d20da8",
   "metadata": {},
   "outputs": [],
   "source": [
    "from tensorflow.keras.preprocessing.text import one_hot\n",
    "from tensorflow.keras.preprocessing.sequence import pad_sequences"
   ]
  },
  {
   "cell_type": "code",
   "execution_count": 3,
   "id": "285e7686",
   "metadata": {},
   "outputs": [],
   "source": [
    "sent=[  'the glass of milk',\n",
    "     'the glass of juice',\n",
    "     'the cup of tea',\n",
    "    'I am a good boy',\n",
    "     'I am a good developer',\n",
    "     'understand the meaning of words',\n",
    "     'your videos are good',]"
   ]
  },
  {
   "cell_type": "code",
   "execution_count": 4,
   "id": "3f54b8c9",
   "metadata": {},
   "outputs": [],
   "source": [
    "### Vocabulary size\n",
    "voc_size=10000"
   ]
  },
  {
   "cell_type": "code",
   "execution_count": 5,
   "id": "956cb04a",
   "metadata": {},
   "outputs": [
    {
     "name": "stdout",
     "output_type": "stream",
     "text": [
      "[[1013, 8494, 4904, 6665], [1013, 8494, 4904, 4792], [1013, 1360, 4904, 2670], [9069, 2753, 5126, 5063, 4951], [9069, 2753, 5126, 5063, 3324], [9207, 1013, 8837, 4904, 8946], [7471, 3990, 885, 5063]]\n"
     ]
    }
   ],
   "source": [
    "one_hot_rep=[one_hot(words,voc_size) for words in sent]\n",
    "print(one_hot_rep)"
   ]
  },
  {
   "cell_type": "code",
   "execution_count": 9,
   "id": "f97d8d71",
   "metadata": {},
   "outputs": [],
   "source": [
    "emb_docs=pad_sequences(one_hot_rep,7)"
   ]
  },
  {
   "cell_type": "code",
   "execution_count": 8,
   "id": "9b081b4f",
   "metadata": {},
   "outputs": [],
   "source": [
    "from tensorflow.keras.layers import Embedding\n",
    "from tensorflow.keras.models import Sequential"
   ]
  },
  {
   "cell_type": "code",
   "execution_count": 10,
   "id": "fd271e3b",
   "metadata": {},
   "outputs": [],
   "source": [
    "dim=10"
   ]
  },
  {
   "cell_type": "code",
   "execution_count": 13,
   "id": "a4f8374f",
   "metadata": {},
   "outputs": [],
   "source": [
    "model=Sequential()\n",
    "model.add(Embedding(voc_size,10,input_length=7))\n",
    "model.compile('adam','mse')"
   ]
  },
  {
   "cell_type": "code",
   "execution_count": 14,
   "id": "87c02d61",
   "metadata": {},
   "outputs": [
    {
     "name": "stdout",
     "output_type": "stream",
     "text": [
      "Model: \"sequential_2\"\n",
      "_________________________________________________________________\n",
      " Layer (type)                Output Shape              Param #   \n",
      "=================================================================\n",
      " embedding (Embedding)       (None, 7, 10)             100000    \n",
      "                                                                 \n",
      "=================================================================\n",
      "Total params: 100,000\n",
      "Trainable params: 100,000\n",
      "Non-trainable params: 0\n",
      "_________________________________________________________________\n"
     ]
    }
   ],
   "source": [
    "model.summary()"
   ]
  },
  {
   "cell_type": "code",
   "execution_count": 16,
   "id": "1ea8388a",
   "metadata": {},
   "outputs": [
    {
     "data": {
      "text/plain": [
       "array([[-0.02680377, -0.00124048, -0.03746628,  0.00727258,  0.02393672,\n",
       "         0.02108232, -0.03364233,  0.01535083,  0.04649956,  0.03973483],\n",
       "       [-0.02680377, -0.00124048, -0.03746628,  0.00727258,  0.02393672,\n",
       "         0.02108232, -0.03364233,  0.01535083,  0.04649956,  0.03973483],\n",
       "       [-0.02680377, -0.00124048, -0.03746628,  0.00727258,  0.02393672,\n",
       "         0.02108232, -0.03364233,  0.01535083,  0.04649956,  0.03973483],\n",
       "       [ 0.00511855,  0.03575847,  0.02435119, -0.02599496,  0.03359285,\n",
       "         0.04216483,  0.02610682, -0.02520206, -0.00899831, -0.03704727],\n",
       "       [ 0.047582  ,  0.01911401,  0.02595495, -0.03315371,  0.01190708,\n",
       "        -0.01412404,  0.04957528,  0.03720894, -0.01568098, -0.03933154],\n",
       "       [ 0.00851054, -0.00130515, -0.01201314, -0.04487162, -0.00776903,\n",
       "        -0.03275607,  0.04979942,  0.03209836,  0.02495486,  0.00297815],\n",
       "       [-0.00204488,  0.01689913, -0.04675561,  0.03103909,  0.03600104,\n",
       "        -0.00402049,  0.01610382,  0.00774284,  0.04665077, -0.04897046]],\n",
       "      dtype=float32)"
      ]
     },
     "execution_count": 16,
     "metadata": {},
     "output_type": "execute_result"
    }
   ],
   "source": [
    "model.predict(emb_docs)[0]"
   ]
  },
  {
   "cell_type": "code",
   "execution_count": null,
   "id": "fe66403d",
   "metadata": {},
   "outputs": [],
   "source": []
  }
 ],
 "metadata": {
  "kernelspec": {
   "display_name": "Python 3 (ipykernel)",
   "language": "python",
   "name": "python3"
  },
  "language_info": {
   "codemirror_mode": {
    "name": "ipython",
    "version": 3
   },
   "file_extension": ".py",
   "mimetype": "text/x-python",
   "name": "python",
   "nbconvert_exporter": "python",
   "pygments_lexer": "ipython3",
   "version": "3.9.7"
  }
 },
 "nbformat": 4,
 "nbformat_minor": 5
}
